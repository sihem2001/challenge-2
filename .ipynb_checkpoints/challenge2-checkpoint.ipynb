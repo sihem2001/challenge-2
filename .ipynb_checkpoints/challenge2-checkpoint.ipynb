{
 "cells": [
  {
   "cell_type": "markdown",
   "id": "da5228a3-38f6-4e7f-965d-87a8d7dcb4c5",
   "metadata": {},
   "source": [
    "# Task1"
   ]
  },
  {
   "cell_type": "code",
   "execution_count": 1,
   "id": "efc62252-fa84-47e5-ae06-2ede05af2384",
   "metadata": {},
   "outputs": [
    {
     "name": "stdin",
     "output_type": "stream",
     "text": [
      "enter your name : hana\n",
      "enter your age :  24\n"
     ]
    }
   ],
   "source": [
    "\n",
    "# ask the user their name and age\n",
    "name = input(\"enter your name :\")\n",
    "age = int(input(\"enter your age : \"))"
   ]
  },
  {
   "cell_type": "code",
   "execution_count": 2,
   "id": "774ae478-a662-4005-9580-dc2d7668e1df",
   "metadata": {},
   "outputs": [
    {
     "name": "stdout",
     "output_type": "stream",
     "text": [
      "Hello , you will turn 100 years old in 2101 years old\n"
     ]
    }
   ],
   "source": [
    "import datetime as dt\n",
    "current_year = dt.datetime.now().year\n",
    "# print a message to the user that tells them the year they tourn 100years old \n",
    "age_100 = 100-age + current_year\n",
    "print(f\"Hello , you will turn 100 years old in {age_100} years old\")"
   ]
  },
  {
   "cell_type": "markdown",
   "id": "f5a4f577-9891-4936-878d-c8fc5763486e",
   "metadata": {},
   "source": [
    "# Guessing Game One"
   ]
  },
  {
   "cell_type": "code",
   "execution_count": 3,
   "id": "b0b803a3-bdc5-4248-a0c6-b49695d825d9",
   "metadata": {},
   "outputs": [
    {
     "name": "stdin",
     "output_type": "stream",
     "text": [
      "enter a number , or write exit to stop the game exit\n"
     ]
    },
    {
     "name": "stdout",
     "output_type": "stream",
     "text": [
      "you stoped plying\n",
      "0\n",
      "the number that has been randomly generated is :8\n"
     ]
    }
   ],
   "source": [
    "# Generate a random number between 1 and 9 (including 1 and 9).\n",
    "import random as rn \n",
    "rand_number = rn.randint(1, 9) \n",
    "\n",
    "#Ask the user to guess the number,\n",
    "#keep the game going until the user hit exit\n",
    "count = 0\n",
    "while True:\n",
    " user_number = input(\"enter a number , or write exit to stop the game\")\n",
    " if user_number.lower() == \"exit\":\n",
    "       print(\"you stoped plying\")\n",
    "       print(count)\n",
    "       break\n",
    " else:\n",
    "#then tell them whether they guessed too low, too high, or exactly right.\n",
    "  number = int(user_number)\n",
    "  count+=1\n",
    " if (number < rand_number):\n",
    "    print(\"The number you geussed is too low\")\n",
    " elif (number > rand_number):\n",
    "     print(\"The number you geussed is too high\")\n",
    " else : print(\"The number you geussed is equale\")\n",
    "print(f\"the number that has been randomly generated is :{rand_number}\")"
   ]
  },
  {
   "cell_type": "markdown",
   "id": "c80dd14c-8e9f-457b-a6e4-b8323f5c7b74",
   "metadata": {},
   "source": [
    "# New List"
   ]
  },
  {
   "cell_type": "code",
   "execution_count": 4,
   "id": "28e1f6d5-278b-4264-859f-e606f397b4bc",
   "metadata": {},
   "outputs": [
    {
     "name": "stdout",
     "output_type": "stream",
     "text": [
      "(5, 25)\n",
      "None\n"
     ]
    }
   ],
   "source": [
    "a = [5, 10, 15, 20, 25]\n",
    "\n",
    "def fst_lst_(list):\n",
    "    return list[0],list[-1]\n",
    "\n",
    "print(fst_lst_(a))\n",
    "\n",
    "\n",
    "def append_list(list1,list2):\n",
    "  return list1.append(fst_lst_(list2))\n",
    "\n",
    "new=[]\n",
    "\n",
    "print(append_list(new,a))"
   ]
  },
  {
   "cell_type": "markdown",
   "id": "42b17142-58ac-45b7-853f-44e8d7ef700c",
   "metadata": {},
   "source": [
    "# password Generator"
   ]
  },
  {
   "cell_type": "code",
   "execution_count": 5,
   "id": "e1874260-4196-4617-8e4d-d7568e697254",
   "metadata": {},
   "outputs": [
    {
     "data": {
      "text/plain": [
       "'}~]G3XMlD,'"
      ]
     },
     "execution_count": 5,
     "metadata": {},
     "output_type": "execute_result"
    }
   ],
   "source": [
    "import random \n",
    "import string \n",
    "def generate_password(length, strength):\n",
    "    \"\"\" Input: length of the password\n",
    "        Output: a random password of the given length\n",
    "    \"\"\"\n",
    "    # list of weak passwords\n",
    "    lst=[\"password\",\"123456676\",\"sara\"]\n",
    "    # check the strength of the password \n",
    "    if strength.lower()== \"weak\":\n",
    "        return random.choice(lst)\n",
    "    else:\n",
    "        length=int(length)\n",
    "        characters = string.ascii_letters + string.digits + string.punctuation\n",
    "        password = ''.join(random.choice(characters) for i in range(length))\n",
    "        return password\n",
    "generate_password(10,\"strong\")\n"
   ]
  },
  {
   "cell_type": "code",
   "execution_count": 6,
   "id": "f1de1b9e-c9b2-449e-821c-2493b800e99a",
   "metadata": {},
   "outputs": [
    {
     "name": "stdout",
     "output_type": "stream",
     "text": [
      "e\n",
      "BtuXPKF9zU6z8Q8\n",
      "*eY`-k|TW^'akTc\n"
     ]
    },
    {
     "name": "stdin",
     "output_type": "stream",
     "text": [
      "enter wich level of privacy you want (weak | medium | strong) :  strong\n",
      "enter the length you want for your password :  10\n"
     ]
    },
    {
     "name": "stdout",
     "output_type": "stream",
     "text": [
      "oc<)&]YpHW\n"
     ]
    }
   ],
   "source": [
    "import random \n",
    "import string\n",
    "\n",
    "def weakPassword(length):\n",
    "    length=int(length)\n",
    "    for i in range(length):\n",
    "        n = random.randint(1,9)\n",
    "        weak_password = ''.join(random.choices(string.ascii_lowercase + string.digits,k = n))\n",
    "    return weak_password\n",
    "\n",
    "def mediumPassword(length):\n",
    "    length=int(length)\n",
    "    for i in range(length):\n",
    "        n = random.randint(10,20)\n",
    "        characters = string.ascii_letters + string.digits\n",
    "        medium_password = ''.join(random.choices(characters, k = n))\n",
    "    return medium_password\n",
    "\n",
    "    \n",
    "def strongPassword(length):\n",
    "     length=int(length)\n",
    "     characters = string.ascii_letters + string.digits + string.punctuation\n",
    "     password = ''.join(random.choice(characters) for i in range(length))\n",
    "     return password\n",
    "\n",
    "\n",
    "     password = ''.join(random.choice(characters) for i in range(length))\n",
    "     return password\n",
    "\n",
    "\n",
    "#general function\n",
    "\n",
    "def generate_password(length, privacy):\n",
    "    \"\"\" input: 1-length of password / 2- privacy\n",
    "        output: a random password of the given length and privacy\n",
    "    \"\"\"\n",
    "#list of weak passwords\n",
    "    if privacy.lower() == 'weak':\n",
    "        return weakPassword(length)\n",
    "    elif privacy.lower() == 'medium':\n",
    "        return mediumPassword(length)\n",
    "    elif privacy.lower() == 'strong':\n",
    "        return strongPassword(length)\n",
    "    else:\n",
    "        return \"enter privacy weak / strong / medium\"\n",
    "\n",
    "#test function\n",
    "print(generate_password(2, 'weak'))\n",
    "print(generate_password(3, 'medium'))\n",
    "print(generate_password(15, 'strong'))\n",
    "\n",
    "# use it as interactive function\n",
    "def genrateMyPass():\n",
    "    MyPassword = input(\"enter wich level of privacy you want (weak | medium | strong) : \")\n",
    "    if (MyPassword.lower() not in ['weak','medium','strong'] ):\n",
    "        return\"enter a correct privacy weak | medium | strong\"\n",
    "    else:\n",
    "        length = int(input(\"enter the length you want for your password : \"))\n",
    "        return generate_password(length,MyPassword)\n",
    "\n",
    "print(genrateMyPass())"
   ]
  },
  {
   "cell_type": "code",
   "execution_count": null,
   "id": "633e8374-35ba-4bf5-9c83-f7a8358bf5c7",
   "metadata": {},
   "outputs": [],
   "source": []
  }
 ],
 "metadata": {
  "kernelspec": {
   "display_name": "Python 3 (ipykernel)",
   "language": "python",
   "name": "python3"
  },
  "language_info": {
   "codemirror_mode": {
    "name": "ipython",
    "version": 3
   },
   "file_extension": ".py",
   "mimetype": "text/x-python",
   "name": "python",
   "nbconvert_exporter": "python",
   "pygments_lexer": "ipython3",
   "version": "3.10.18"
  }
 },
 "nbformat": 4,
 "nbformat_minor": 5
}
